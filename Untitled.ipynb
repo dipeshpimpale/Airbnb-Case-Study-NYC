{
 "cells": [
  {
   "cell_type": "code",
   "execution_count": 7,
   "id": "efc1d9ae",
   "metadata": {},
   "outputs": [
    {
     "name": "stdout",
     "output_type": "stream",
     "text": [
      "Hidden_ code= sXXXXl kXXXXr gXXXXa\n"
     ]
    },
    {
     "data": {
      "text/plain": [
       "str"
      ]
     },
     "execution_count": 7,
     "metadata": {},
     "output_type": "execute_result"
    }
   ],
   "source": [
    "name= (\"sahil kumar gupta\")\n",
    "list=[]\n",
    "for i in (name.split(\" \")):\n",
    "    list.append(i[:1]+\"X\"*(len(i)-1)+i[-1])\n",
    "list1=' '.join([str(elem) for elem in list])   \n",
    "print(\"Hidden_ code=\",list1)\n",
    "\n"
   ]
  },
  {
   "cell_type": "code",
   "execution_count": 21,
   "id": "89ae1ce8",
   "metadata": {},
   "outputs": [
    {
     "name": "stdout",
     "output_type": "stream",
     "text": [
      "Hidden_ code= sXXXXl rXXXXXl gXXXXa wXXXXh kXXXXXd\n"
     ]
    }
   ],
   "source": [
    "def hiddens(name):\n",
    "    list=[]\n",
    "    for i in (name.split(\" \")):\n",
    "        list.append(i[:1]+\"X\"*(len(i)-1)+i[-1])\n",
    "    list1=' '.join([str(elem) for elem in list])   \n",
    "    print(\"Hidden_ code=\",list1)\n",
    "    \n",
    "    \n",
    "hiddens(\"sahil rushil gupta watch keypad\")"
   ]
  },
  {
   "cell_type": "code",
   "execution_count": null,
   "id": "feabe76e",
   "metadata": {},
   "outputs": [],
   "source": []
  }
 ],
 "metadata": {
  "kernelspec": {
   "display_name": "Python 3 (ipykernel)",
   "language": "python",
   "name": "python3"
  },
  "language_info": {
   "codemirror_mode": {
    "name": "ipython",
    "version": 3
   },
   "file_extension": ".py",
   "mimetype": "text/x-python",
   "name": "python",
   "nbconvert_exporter": "python",
   "pygments_lexer": "ipython3",
   "version": "3.9.13"
  }
 },
 "nbformat": 4,
 "nbformat_minor": 5
}
